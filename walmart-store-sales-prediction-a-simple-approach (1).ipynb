{
 "cells": [
  {
   "cell_type": "markdown",
   "metadata": {
    "ExecuteTime": {
     "end_time": "2021-12-26T22:01:18.848359Z",
     "start_time": "2021-12-26T22:01:18.839251Z"
    }
   },
   "source": [
    "# __Walmart Dataset__ <br>\n",
    "_Walmart Store Sales Prediction - Regression Problem_"
   ]
  },
  {
   "cell_type": "markdown",
   "metadata": {
    "ExecuteTime": {
     "end_time": "2021-12-26T22:05:18.163847Z",
     "start_time": "2021-12-26T22:05:18.148053Z"
    }
   },
   "source": [
    "## __Description:__ <br>\n",
    "One of the leading retail stores in the US, Walmart, would like to predict the sales and demand accurately. There are certain events and holidays which impact sales on each day. There are sales data available for 45 stores of Walmart. The business is facing a challenge due to unforeseen demands and runs out of stock some times, due to the inappropriate machine learning algorithm. An ideal ML algorithm will predict demand accurately and ingest factors like economic conditions including CPI, Unemployment Index, etc. <br>\n",
    "\n",
    "Walmart runs several promotional markdown events throughout the year. These markdowns precede prominent holidays, the four largest of all, which are the Super Bowl, Labour Day, Thanksgiving, and Christmas. The weeks including these holidays are weighted five times higher in the evaluation than non-holiday weeks. Part of the challenge presented by this competition is modeling the effects of markdowns on these holiday weeks in the absence of complete/ideal historical data. Historical sales data for 45 Walmart stores located in different regions are available.<br>\n",
    "\n",
    "__Acknowledgements__<br>\n",
    "The dataset is taken from Kaggle. <br>\n",
    "\n",
    "__Objective:__<br>\n",
    "Understand the Dataset & cleanup (if required). <br>\n",
    "Build Regression models to predict the sales w.r.t single & multiple features. <br>\n",
    "Also evaluate the models & compare their respective scores like R2, RMSE, etc. <br>"
   ]
  },
  {
   "cell_type": "markdown",
   "metadata": {},
   "source": [
    "### About this file\n",
    "This is the historical data that covers sales from 2010-02-05 to 2012-11-01, in the file WalmartStoresales.\n",
    "Within this file you will find the following fields:<br>\n",
    "\n",
    "\n",
    "| **Field**   |     **Description** |  \n",
    "|-------------|---------------------|\n",
    "| Store       |  the store number | \n",
    "| Date        |  the week of sales |\n",
    "| Weekly_Sales| sales for the given store   |\n",
    "| Holiday_Flag| whether the week is a special holiday week 1 – Holiday week 0 – Non-holiday week | \n",
    "| Temperature | Temperature on the day of sale |\n",
    "| Fuel_Price  |  Cost of fuel in the region |\n",
    "| CPI         |  Prevailing consumer price index | \n",
    "| Unemployment|  Prevailing unemployment rate |\n",
    "| Holiday Events| Super Bowl;Labour Day;Thanksgiving;Christmas|"
   ]
  },
  {
   "cell_type": "markdown",
   "metadata": {},
   "source": [
    "## __Data Exploration__"
   ]
  },
  {
   "cell_type": "markdown",
   "metadata": {},
   "source": [
    "**Step 1:** The very first step is to have a deeper look into the data:\n",
    "1. Using pandas extract a dataframe called *df* from the file *walmart.csv*\n",
    "2. Print the result of the method  ```name_dataframe.d_types```, in this way you print out the data types associated to each of the fields in the table\n",
    "3. Run the method ```name_dataframe.head(N)``` to look at first N instances of the dataframe.\n",
    "4. Use the method ```name_dataframe.describe( )``` to generate descriptive statistics that summarize each field of the dataframe"
   ]
  },
  {
   "cell_type": "markdown",
   "metadata": {},
   "source": [
    "### Import the libraries"
   ]
  },
  {
   "cell_type": "code",
   "execution_count": null,
   "metadata": {
    "ExecuteTime": {
     "end_time": "2021-12-28T03:27:48.961381Z",
     "start_time": "2021-12-28T03:27:48.938081Z"
    },
    "execution": {
     "iopub.execute_input": "2021-12-28T04:41:14.964522Z",
     "iopub.status.busy": "2021-12-28T04:41:14.963437Z",
     "iopub.status.idle": "2021-12-28T04:41:15.954103Z",
     "shell.execute_reply": "2021-12-28T04:41:15.953227Z",
     "shell.execute_reply.started": "2021-12-28T04:41:14.964402Z"
    }
   },
   "outputs": [],
   "source": [
    "import numpy as np \n",
    "import pandas as pd \n",
    "import matplotlib.pyplot as plt\n",
    "import seaborn as sns"
   ]
  },
  {
   "cell_type": "markdown",
   "metadata": {},
   "source": [
    "### Read the dataset"
   ]
  },
  {
   "cell_type": "code",
   "execution_count": null,
   "metadata": {
    "ExecuteTime": {
     "end_time": "2021-12-28T03:27:49.102205Z",
     "start_time": "2021-12-28T03:27:48.965509Z"
    },
    "execution": {
     "iopub.execute_input": "2021-12-28T04:41:15.956332Z",
     "iopub.status.busy": "2021-12-28T04:41:15.955988Z",
     "iopub.status.idle": "2021-12-28T04:41:16.009614Z",
     "shell.execute_reply": "2021-12-28T04:41:16.008796Z",
     "shell.execute_reply.started": "2021-12-28T04:41:15.956291Z"
    }
   },
   "outputs": [],
   "source": [
    "df = pd.read_csv('/kaggle/input/walmart-dataset/Walmart.csv')\n",
    "df.head()"
   ]
  },
  {
   "cell_type": "markdown",
   "metadata": {},
   "source": [
    "### Check the shape of the dataset"
   ]
  },
  {
   "cell_type": "code",
   "execution_count": null,
   "metadata": {
    "ExecuteTime": {
     "end_time": "2021-12-28T03:27:49.118843Z",
     "start_time": "2021-12-28T03:27:49.108173Z"
    },
    "execution": {
     "iopub.execute_input": "2021-12-28T04:41:16.01125Z",
     "iopub.status.busy": "2021-12-28T04:41:16.010906Z",
     "iopub.status.idle": "2021-12-28T04:41:16.017877Z",
     "shell.execute_reply": "2021-12-28T04:41:16.016951Z",
     "shell.execute_reply.started": "2021-12-28T04:41:16.011209Z"
    }
   },
   "outputs": [],
   "source": [
    "df.shape"
   ]
  },
  {
   "cell_type": "markdown",
   "metadata": {},
   "source": [
    "### Check the datatypes of each column"
   ]
  },
  {
   "cell_type": "code",
   "execution_count": null,
   "metadata": {
    "ExecuteTime": {
     "end_time": "2021-12-28T03:27:49.135477Z",
     "start_time": "2021-12-28T03:27:49.125457Z"
    },
    "execution": {
     "iopub.execute_input": "2021-12-28T04:41:16.020115Z",
     "iopub.status.busy": "2021-12-28T04:41:16.019869Z",
     "iopub.status.idle": "2021-12-28T04:41:16.031183Z",
     "shell.execute_reply": "2021-12-28T04:41:16.030511Z",
     "shell.execute_reply.started": "2021-12-28T04:41:16.020086Z"
    }
   },
   "outputs": [],
   "source": [
    "df.dtypes"
   ]
  },
  {
   "cell_type": "markdown",
   "metadata": {},
   "source": [
    "### Check for Descriptive Statistics"
   ]
  },
  {
   "cell_type": "code",
   "execution_count": null,
   "metadata": {
    "ExecuteTime": {
     "end_time": "2021-12-28T03:27:49.194889Z",
     "start_time": "2021-12-28T03:27:49.138593Z"
    },
    "execution": {
     "iopub.execute_input": "2021-12-28T04:41:16.034736Z",
     "iopub.status.busy": "2021-12-28T04:41:16.034014Z",
     "iopub.status.idle": "2021-12-28T04:41:16.079684Z",
     "shell.execute_reply": "2021-12-28T04:41:16.079109Z",
     "shell.execute_reply.started": "2021-12-28T04:41:16.034694Z"
    }
   },
   "outputs": [],
   "source": [
    "df.describe().T"
   ]
  },
  {
   "cell_type": "markdown",
   "metadata": {},
   "source": [
    "### Check for columns"
   ]
  },
  {
   "cell_type": "code",
   "execution_count": null,
   "metadata": {
    "ExecuteTime": {
     "end_time": "2021-12-28T03:27:49.204743Z",
     "start_time": "2021-12-28T03:27:49.197682Z"
    },
    "execution": {
     "iopub.execute_input": "2021-12-28T04:41:16.081436Z",
     "iopub.status.busy": "2021-12-28T04:41:16.080701Z",
     "iopub.status.idle": "2021-12-28T04:41:16.085852Z",
     "shell.execute_reply": "2021-12-28T04:41:16.085355Z",
     "shell.execute_reply.started": "2021-12-28T04:41:16.081387Z"
    }
   },
   "outputs": [],
   "source": [
    "print(df.columns.to_list())"
   ]
  },
  {
   "cell_type": "markdown",
   "metadata": {},
   "source": [
    "### Convert the date column from object to datetime"
   ]
  },
  {
   "cell_type": "code",
   "execution_count": null,
   "metadata": {
    "ExecuteTime": {
     "end_time": "2021-12-28T03:27:49.227863Z",
     "start_time": "2021-12-28T03:27:49.207387Z"
    },
    "execution": {
     "iopub.execute_input": "2021-12-28T04:41:16.08761Z",
     "iopub.status.busy": "2021-12-28T04:41:16.086764Z",
     "iopub.status.idle": "2021-12-28T04:41:16.104548Z",
     "shell.execute_reply": "2021-12-28T04:41:16.103969Z",
     "shell.execute_reply.started": "2021-12-28T04:41:16.087581Z"
    }
   },
   "outputs": [],
   "source": [
    "df.Date = pd.to_datetime(df.Date)\n",
    "df.Date.dtype"
   ]
  },
  {
   "cell_type": "code",
   "execution_count": null,
   "metadata": {
    "ExecuteTime": {
     "end_time": "2021-12-28T03:27:49.259984Z",
     "start_time": "2021-12-28T03:27:49.230566Z"
    },
    "execution": {
     "iopub.execute_input": "2021-12-28T04:41:16.106044Z",
     "iopub.status.busy": "2021-12-28T04:41:16.105452Z",
     "iopub.status.idle": "2021-12-28T04:41:16.13255Z",
     "shell.execute_reply": "2021-12-28T04:41:16.131581Z",
     "shell.execute_reply.started": "2021-12-28T04:41:16.106004Z"
    }
   },
   "outputs": [],
   "source": [
    "df['year'], df['month'] = df['Date'].dt.year, df['Date'].dt.month\n",
    "df.sample(5)"
   ]
  },
  {
   "cell_type": "markdown",
   "metadata": {},
   "source": [
    "### Checking for top 10 largest Sales"
   ]
  },
  {
   "cell_type": "code",
   "execution_count": null,
   "metadata": {
    "ExecuteTime": {
     "end_time": "2021-12-28T03:27:49.287705Z",
     "start_time": "2021-12-28T03:27:49.262991Z"
    },
    "execution": {
     "iopub.execute_input": "2021-12-28T04:41:16.134427Z",
     "iopub.status.busy": "2021-12-28T04:41:16.134106Z",
     "iopub.status.idle": "2021-12-28T04:41:16.156084Z",
     "shell.execute_reply": "2021-12-28T04:41:16.15536Z",
     "shell.execute_reply.started": "2021-12-28T04:41:16.134387Z"
    }
   },
   "outputs": [],
   "source": [
    "df[['Store', 'Date', 'Weekly_Sales', 'Holiday_Flag', 'Temperature', 'Fuel_Price']].nlargest(10,'Weekly_Sales')"
   ]
  },
  {
   "cell_type": "markdown",
   "metadata": {},
   "source": [
    "**Store 14 has the most weekly_sales, while store 20,10,13,4 have are in top 10 twice**"
   ]
  },
  {
   "cell_type": "markdown",
   "metadata": {},
   "source": [
    "### Convert the numerical columns to categorical"
   ]
  },
  {
   "cell_type": "code",
   "execution_count": null,
   "metadata": {
    "ExecuteTime": {
     "end_time": "2021-12-28T03:27:49.309352Z",
     "start_time": "2021-12-28T03:27:49.297379Z"
    },
    "execution": {
     "iopub.execute_input": "2021-12-28T04:41:16.158738Z",
     "iopub.status.busy": "2021-12-28T04:41:16.158512Z",
     "iopub.status.idle": "2021-12-28T04:41:16.165788Z",
     "shell.execute_reply": "2021-12-28T04:41:16.165209Z",
     "shell.execute_reply.started": "2021-12-28T04:41:16.158713Z"
    }
   },
   "outputs": [],
   "source": [
    "# we convert the store column to categorical since each Value is unique store no\n",
    "df.Store = pd.Categorical(df.Store)\n",
    "df.Store.dtype"
   ]
  },
  {
   "cell_type": "code",
   "execution_count": null,
   "metadata": {
    "ExecuteTime": {
     "end_time": "2021-12-28T03:27:49.439728Z",
     "start_time": "2021-12-28T03:27:49.427435Z"
    },
    "execution": {
     "iopub.execute_input": "2021-12-28T04:41:16.167597Z",
     "iopub.status.busy": "2021-12-28T04:41:16.166968Z",
     "iopub.status.idle": "2021-12-28T04:41:16.177104Z",
     "shell.execute_reply": "2021-12-28T04:41:16.176398Z",
     "shell.execute_reply.started": "2021-12-28T04:41:16.167567Z"
    }
   },
   "outputs": [],
   "source": [
    "df['Holiday_Flag'] = pd.Categorical(df.Holiday_Flag)\n",
    "df.Holiday_Flag.dtype"
   ]
  },
  {
   "cell_type": "markdown",
   "metadata": {},
   "source": [
    "## __Exploratory Data Analysis__"
   ]
  },
  {
   "cell_type": "code",
   "execution_count": null,
   "metadata": {
    "ExecuteTime": {
     "end_time": "2021-12-28T03:27:49.321324Z",
     "start_time": "2021-12-28T03:27:49.311843Z"
    },
    "execution": {
     "iopub.execute_input": "2021-12-28T04:41:16.178709Z",
     "iopub.status.busy": "2021-12-28T04:41:16.178293Z",
     "iopub.status.idle": "2021-12-28T04:41:16.186961Z",
     "shell.execute_reply": "2021-12-28T04:41:16.186376Z",
     "shell.execute_reply.started": "2021-12-28T04:41:16.178671Z"
    }
   },
   "outputs": [],
   "source": [
    "# Print the maximum of the date column\n",
    "print(df.Date.max())\n",
    "\n",
    "# Print the minimum of the date column\n",
    "print(df.Date.min())"
   ]
  },
  {
   "cell_type": "code",
   "execution_count": null,
   "metadata": {
    "ExecuteTime": {
     "end_time": "2021-12-28T03:27:49.3901Z",
     "start_time": "2021-12-28T03:27:49.342493Z"
    },
    "execution": {
     "iopub.execute_input": "2021-12-28T04:41:16.188544Z",
     "iopub.status.busy": "2021-12-28T04:41:16.188334Z",
     "iopub.status.idle": "2021-12-28T04:41:16.21315Z",
     "shell.execute_reply": "2021-12-28T04:41:16.212417Z",
     "shell.execute_reply.started": "2021-12-28T04:41:16.188508Z"
    }
   },
   "outputs": [],
   "source": [
    "# A custom IQR function\n",
    "def iqr(column):\n",
    "    return column.quantile(0.75) - column.quantile(0.25)\n",
    "    \n",
    "print(df[[\"Temperature\", \"Fuel_Price\", \"Unemployment\"]].agg([iqr,np.mean,np.median]))"
   ]
  },
  {
   "cell_type": "code",
   "execution_count": null,
   "metadata": {
    "ExecuteTime": {
     "end_time": "2021-12-28T03:27:49.424516Z",
     "start_time": "2021-12-28T03:27:49.393406Z"
    },
    "execution": {
     "iopub.execute_input": "2021-12-28T04:41:16.214641Z",
     "iopub.status.busy": "2021-12-28T04:41:16.214441Z",
     "iopub.status.idle": "2021-12-28T04:41:16.236426Z",
     "shell.execute_reply": "2021-12-28T04:41:16.235702Z",
     "shell.execute_reply.started": "2021-12-28T04:41:16.214617Z"
    }
   },
   "outputs": [],
   "source": [
    "# Sort sales_1_1 by date\n",
    "sales_1_1 = df.sort_values('Date')\n",
    "\n",
    "# Get the cumulative sum of weekly_sales, add as cum_weekly_sales col\n",
    "sales_1_1['cum_weekly_sales'] = sales_1_1.Weekly_Sales.cumsum()\n",
    "\n",
    "# Get the max of weekly_sales, add as cum_max_sales col\n",
    "sales_1_1['max_sales'] = sales_1_1.Weekly_Sales.max()\n",
    "\n",
    "# See the columns we calculated\n",
    "sales_1_1[[\"Date\", \"Weekly_Sales\", \"cum_weekly_sales\", \"max_sales\"]]"
   ]
  },
  {
   "cell_type": "code",
   "execution_count": null,
   "metadata": {
    "ExecuteTime": {
     "end_time": "2021-12-28T03:27:49.466385Z",
     "start_time": "2021-12-28T03:27:49.443228Z"
    },
    "execution": {
     "iopub.execute_input": "2021-12-28T04:41:16.23781Z",
     "iopub.status.busy": "2021-12-28T04:41:16.237609Z",
     "iopub.status.idle": "2021-12-28T04:41:16.249521Z",
     "shell.execute_reply": "2021-12-28T04:41:16.248404Z",
     "shell.execute_reply.started": "2021-12-28T04:41:16.237786Z"
    }
   },
   "outputs": [],
   "source": [
    "# Subset the rows where is_holiday is True and drop duplicate dates\n",
    "holiday_dates = df[df['Holiday_Flag'] == 1].drop_duplicates(subset = 'Date')\n",
    "\n",
    "# Print date col of holiday_dates\n",
    "holiday_dates.Date"
   ]
  },
  {
   "cell_type": "markdown",
   "metadata": {},
   "source": [
    "### Analysis by store"
   ]
  },
  {
   "cell_type": "code",
   "execution_count": null,
   "metadata": {
    "ExecuteTime": {
     "end_time": "2021-12-28T03:27:49.504074Z",
     "start_time": "2021-12-28T03:27:49.46953Z"
    },
    "execution": {
     "iopub.execute_input": "2021-12-28T04:41:16.252224Z",
     "iopub.status.busy": "2021-12-28T04:41:16.250741Z",
     "iopub.status.idle": "2021-12-28T04:41:16.275678Z",
     "shell.execute_reply": "2021-12-28T04:41:16.275108Z",
     "shell.execute_reply.started": "2021-12-28T04:41:16.252179Z"
    }
   },
   "outputs": [],
   "source": [
    "Store = df.groupby(['Store']).agg({'Weekly_Sales':['mean','max','sum']})\n",
    "Store[:5]"
   ]
  },
  {
   "cell_type": "markdown",
   "metadata": {},
   "source": [
    "### Set Style "
   ]
  },
  {
   "cell_type": "code",
   "execution_count": null,
   "metadata": {
    "ExecuteTime": {
     "end_time": "2021-12-28T03:27:49.524208Z",
     "start_time": "2021-12-28T03:27:49.506108Z"
    },
    "execution": {
     "iopub.execute_input": "2021-12-28T04:41:16.276995Z",
     "iopub.status.busy": "2021-12-28T04:41:16.276778Z",
     "iopub.status.idle": "2021-12-28T04:41:16.280799Z",
     "shell.execute_reply": "2021-12-28T04:41:16.280187Z",
     "shell.execute_reply.started": "2021-12-28T04:41:16.276968Z"
    }
   },
   "outputs": [],
   "source": [
    "plt.style.use('seaborn-darkgrid')"
   ]
  },
  {
   "cell_type": "markdown",
   "metadata": {},
   "source": [
    "### Line chart to view trend across stores for Total weekly_sales column"
   ]
  },
  {
   "cell_type": "code",
   "execution_count": null,
   "metadata": {
    "ExecuteTime": {
     "end_time": "2021-12-28T03:27:49.764753Z",
     "start_time": "2021-12-28T03:27:49.526472Z"
    },
    "execution": {
     "iopub.execute_input": "2021-12-28T04:41:16.282178Z",
     "iopub.status.busy": "2021-12-28T04:41:16.281799Z",
     "iopub.status.idle": "2021-12-28T04:41:16.552894Z",
     "shell.execute_reply": "2021-12-28T04:41:16.55203Z",
     "shell.execute_reply.started": "2021-12-28T04:41:16.28215Z"
    }
   },
   "outputs": [],
   "source": [
    "plt.figure(figsize = (15,8))\n",
    "Store[('Weekly_Sales',  'sum')].plot()\n",
    "plt.show()"
   ]
  },
  {
   "cell_type": "markdown",
   "metadata": {},
   "source": [
    "### Bar chart for better analysis"
   ]
  },
  {
   "cell_type": "code",
   "execution_count": null,
   "metadata": {
    "ExecuteTime": {
     "end_time": "2021-12-28T03:27:50.302393Z",
     "start_time": "2021-12-28T03:27:49.77193Z"
    },
    "execution": {
     "iopub.execute_input": "2021-12-28T04:41:16.555033Z",
     "iopub.status.busy": "2021-12-28T04:41:16.554204Z",
     "iopub.status.idle": "2021-12-28T04:41:17.131554Z",
     "shell.execute_reply": "2021-12-28T04:41:17.130794Z",
     "shell.execute_reply.started": "2021-12-28T04:41:16.554994Z"
    }
   },
   "outputs": [],
   "source": [
    "plt.figure(figsize = (15,8))\n",
    "Store[('Weekly_Sales',  'sum')].plot(kind = 'bar',color = 'blue')\n",
    "plt.xticks(rotation = 0)\n",
    "plt.title('Total Sum of Sales')\n",
    "plt.axhline(y=200000000,color = 'orange')\n",
    "plt.axhline(y=100000000,color = 'red')\n",
    "plt.axhline(y=300000000,color = 'green')\n",
    "plt.show()"
   ]
  },
  {
   "cell_type": "markdown",
   "metadata": {
    "ExecuteTime": {
     "end_time": "2021-12-26T23:39:06.632027Z",
     "start_time": "2021-12-26T23:39:06.61801Z"
    }
   },
   "source": [
    "__A bar plot is much more conclusive and we get the following observations__\n",
    "* Stores getting total sales below the redline are underperforming<br>\n",
    "* Stores between red and orange are average <br>\n",
    "* Stores between orange and green are performing above average<br>\n",
    "* Stores touching the green line are very well performing<br>"
   ]
  },
  {
   "cell_type": "markdown",
   "metadata": {},
   "source": [
    "**We can do the same for max Weekly sales for each store**"
   ]
  },
  {
   "cell_type": "code",
   "execution_count": null,
   "metadata": {
    "ExecuteTime": {
     "end_time": "2021-12-28T03:27:50.784016Z",
     "start_time": "2021-12-28T03:27:50.313295Z"
    },
    "execution": {
     "iopub.execute_input": "2021-12-28T04:41:17.132938Z",
     "iopub.status.busy": "2021-12-28T04:41:17.132721Z",
     "iopub.status.idle": "2021-12-28T04:41:17.691732Z",
     "shell.execute_reply": "2021-12-28T04:41:17.69106Z",
     "shell.execute_reply.started": "2021-12-28T04:41:17.132914Z"
    }
   },
   "outputs": [],
   "source": [
    "plt.figure(figsize = (15,8))\n",
    "Store[('Weekly_Sales',  'max')].plot(kind = 'bar',color = 'violet')\n",
    "plt.xticks(rotation = 0)\n",
    "plt.title('Max Weekly_Sales')\n",
    "plt.axhline(y=2000000,color = 'orange')\n",
    "plt.axhline(y=1000000,color = 'red')\n",
    "plt.axhline(y=3000000,color = 'green')\n",
    "plt.show()"
   ]
  },
  {
   "cell_type": "markdown",
   "metadata": {
    "ExecuteTime": {
     "end_time": "2021-12-26T23:53:54.339188Z",
     "start_time": "2021-12-26T23:53:54.315434Z"
    }
   },
   "source": [
    "__From the charts we can say that stores 4,20 are the best performing stores while 5,33,44 are the least performing__"
   ]
  },
  {
   "cell_type": "markdown",
   "metadata": {},
   "source": [
    "###  Using the Holiday_flag column to check Weekly_sales"
   ]
  },
  {
   "cell_type": "markdown",
   "metadata": {},
   "source": [
    "12-Feb-10, 11-Feb-11, 10-Feb-12, 8-Feb-13\\ Labour Day: 10-Sep-10, 9-Sep-11, 7-Sep-12, 6-Sep-13\\ Thanksgiving: 26-Nov-10, 25-Nov-11, 23-Nov-12, 29-Nov-13\\ Christmas: 31-Dec-10, 30-Dec-11, 28-Dec-12, 27-Dec-13"
   ]
  },
  {
   "cell_type": "code",
   "execution_count": null,
   "metadata": {
    "ExecuteTime": {
     "end_time": "2021-12-28T03:27:50.798504Z",
     "start_time": "2021-12-28T03:27:50.786331Z"
    },
    "execution": {
     "iopub.execute_input": "2021-12-28T04:41:17.693152Z",
     "iopub.status.busy": "2021-12-28T04:41:17.692928Z",
     "iopub.status.idle": "2021-12-28T04:41:17.701502Z",
     "shell.execute_reply": "2021-12-28T04:41:17.700661Z",
     "shell.execute_reply.started": "2021-12-28T04:41:17.693127Z"
    }
   },
   "outputs": [],
   "source": [
    "# check for total values in Holiday_Flag column\n",
    "df.Holiday_Flag.value_counts()"
   ]
  },
  {
   "cell_type": "markdown",
   "metadata": {},
   "source": [
    "### Aggregating Weekly sales based on store and holiday flag"
   ]
  },
  {
   "cell_type": "code",
   "execution_count": null,
   "metadata": {
    "ExecuteTime": {
     "end_time": "2021-12-28T03:27:50.840867Z",
     "start_time": "2021-12-28T03:27:50.801428Z"
    },
    "execution": {
     "iopub.execute_input": "2021-12-28T04:41:17.70302Z",
     "iopub.status.busy": "2021-12-28T04:41:17.702747Z",
     "iopub.status.idle": "2021-12-28T04:41:17.736846Z",
     "shell.execute_reply": "2021-12-28T04:41:17.736096Z",
     "shell.execute_reply.started": "2021-12-28T04:41:17.702991Z"
    }
   },
   "outputs": [],
   "source": [
    "Store_new = df.groupby(['Store','Holiday_Flag']).agg({'Weekly_Sales':['mean','max','sum']})\n",
    "Store_new = Store_new.reset_index()\n",
    "Store_new"
   ]
  },
  {
   "cell_type": "code",
   "execution_count": null,
   "metadata": {
    "ExecuteTime": {
     "end_time": "2021-12-28T03:27:51.684447Z",
     "start_time": "2021-12-28T03:27:50.84795Z"
    },
    "execution": {
     "iopub.execute_input": "2021-12-28T04:41:17.73832Z",
     "iopub.status.busy": "2021-12-28T04:41:17.738008Z",
     "iopub.status.idle": "2021-12-28T04:41:18.692575Z",
     "shell.execute_reply": "2021-12-28T04:41:18.691995Z",
     "shell.execute_reply.started": "2021-12-28T04:41:17.738288Z"
    }
   },
   "outputs": [],
   "source": [
    "plt.figure(figsize=(15,8))\n",
    "sns.barplot(x = 'Store',y = ('Weekly_Sales',  'mean'),hue= 'Holiday_Flag',data=Store_new)\n",
    "plt.show()"
   ]
  },
  {
   "cell_type": "markdown",
   "metadata": {
    "ExecuteTime": {
     "end_time": "2021-12-27T00:37:46.325231Z",
     "start_time": "2021-12-27T00:37:46.317369Z"
    }
   },
   "source": [
    "__Inference__: <br>\n",
    "* People generally tend to spend more during holiday weeks<br>\n",
    "* The average spending is more during holiday weeks than normal weeks\n",
    "    "
   ]
  },
  {
   "cell_type": "markdown",
   "metadata": {},
   "source": [
    "### Features vs Weekly sales"
   ]
  },
  {
   "cell_type": "code",
   "execution_count": null,
   "metadata": {
    "ExecuteTime": {
     "end_time": "2021-12-28T03:27:52.315842Z",
     "start_time": "2021-12-28T03:27:51.687642Z"
    },
    "execution": {
     "iopub.execute_input": "2021-12-28T04:41:18.694611Z",
     "iopub.status.busy": "2021-12-28T04:41:18.693859Z",
     "iopub.status.idle": "2021-12-28T04:41:19.10208Z",
     "shell.execute_reply": "2021-12-28T04:41:19.101211Z",
     "shell.execute_reply.started": "2021-12-28T04:41:18.694558Z"
    }
   },
   "outputs": [],
   "source": [
    "# Temparature vs Weekly Sales\n",
    "plt.figure(figsize=(15,8))\n",
    "sns.scatterplot(x = 'Temperature',y = 'Weekly_Sales',hue = 'Store',data = df,legend = False)\n",
    "plt.show()"
   ]
  },
  {
   "cell_type": "code",
   "execution_count": null,
   "metadata": {
    "ExecuteTime": {
     "end_time": "2021-12-28T03:27:52.319604Z",
     "start_time": "2021-12-28T03:27:52.317589Z"
    },
    "execution": {
     "iopub.execute_input": "2021-12-28T04:41:19.103367Z",
     "iopub.status.busy": "2021-12-28T04:41:19.10317Z",
     "iopub.status.idle": "2021-12-28T04:41:19.10807Z",
     "shell.execute_reply": "2021-12-28T04:41:19.106495Z",
     "shell.execute_reply.started": "2021-12-28T04:41:19.103343Z"
    }
   },
   "outputs": [],
   "source": [
    "# We can say that temperature doesn't have much impact"
   ]
  },
  {
   "cell_type": "code",
   "execution_count": null,
   "metadata": {
    "ExecuteTime": {
     "end_time": "2021-12-28T03:27:52.531451Z",
     "start_time": "2021-12-28T03:27:52.322931Z"
    },
    "execution": {
     "iopub.execute_input": "2021-12-28T04:41:19.109536Z",
     "iopub.status.busy": "2021-12-28T04:41:19.109029Z",
     "iopub.status.idle": "2021-12-28T04:41:19.365616Z",
     "shell.execute_reply": "2021-12-28T04:41:19.364621Z",
     "shell.execute_reply.started": "2021-12-28T04:41:19.109505Z"
    }
   },
   "outputs": [],
   "source": [
    "# CPI vs Weekly Sales\n",
    "plt.figure(figsize=(15,8))\n",
    "sns.scatterplot(x = 'CPI',y = 'Weekly_Sales',data = df,legend = False)\n",
    "plt.show()"
   ]
  },
  {
   "cell_type": "code",
   "execution_count": null,
   "metadata": {
    "ExecuteTime": {
     "end_time": "2021-12-28T03:27:52.538158Z",
     "start_time": "2021-12-28T03:27:52.533381Z"
    },
    "execution": {
     "iopub.execute_input": "2021-12-28T04:41:19.367492Z",
     "iopub.status.busy": "2021-12-28T04:41:19.367131Z",
     "iopub.status.idle": "2021-12-28T04:41:19.37195Z",
     "shell.execute_reply": "2021-12-28T04:41:19.370989Z",
     "shell.execute_reply.started": "2021-12-28T04:41:19.36745Z"
    }
   },
   "outputs": [],
   "source": [
    "# Again no significant pattern can be observed"
   ]
  },
  {
   "cell_type": "code",
   "execution_count": null,
   "metadata": {
    "ExecuteTime": {
     "end_time": "2021-12-28T03:27:52.757931Z",
     "start_time": "2021-12-28T03:27:52.541414Z"
    },
    "execution": {
     "iopub.execute_input": "2021-12-28T04:41:19.378197Z",
     "iopub.status.busy": "2021-12-28T04:41:19.377945Z",
     "iopub.status.idle": "2021-12-28T04:41:19.63184Z",
     "shell.execute_reply": "2021-12-28T04:41:19.631088Z",
     "shell.execute_reply.started": "2021-12-28T04:41:19.37817Z"
    }
   },
   "outputs": [],
   "source": [
    "# Unemployment vs Week_sales\n",
    "plt.figure(figsize=(15,8))\n",
    "sns.scatterplot(x = 'Unemployment',y = 'Weekly_Sales',data = df,legend = False)\n",
    "plt.show()"
   ]
  },
  {
   "cell_type": "code",
   "execution_count": null,
   "metadata": {
    "ExecuteTime": {
     "end_time": "2021-12-28T03:27:52.765497Z",
     "start_time": "2021-12-28T03:27:52.760489Z"
    },
    "execution": {
     "iopub.execute_input": "2021-12-28T04:41:19.633369Z",
     "iopub.status.busy": "2021-12-28T04:41:19.632957Z",
     "iopub.status.idle": "2021-12-28T04:41:19.636741Z",
     "shell.execute_reply": "2021-12-28T04:41:19.635987Z",
     "shell.execute_reply.started": "2021-12-28T04:41:19.633336Z"
    }
   },
   "outputs": [],
   "source": [
    "# Again no significant pattern can be observed"
   ]
  },
  {
   "cell_type": "markdown",
   "metadata": {},
   "source": [
    "### Plotting for all features"
   ]
  },
  {
   "cell_type": "code",
   "execution_count": null,
   "metadata": {
    "ExecuteTime": {
     "end_time": "2021-12-28T03:28:03.51446Z",
     "start_time": "2021-12-28T03:27:52.768027Z"
    },
    "execution": {
     "iopub.execute_input": "2021-12-28T04:41:19.638247Z",
     "iopub.status.busy": "2021-12-28T04:41:19.637932Z",
     "iopub.status.idle": "2021-12-28T04:41:29.479588Z",
     "shell.execute_reply": "2021-12-28T04:41:29.478132Z",
     "shell.execute_reply.started": "2021-12-28T04:41:19.638217Z"
    }
   },
   "outputs": [],
   "source": [
    "sns.pairplot(df)\n",
    "plt.show()"
   ]
  },
  {
   "cell_type": "markdown",
   "metadata": {},
   "source": [
    "### Check for distribution of numerical features"
   ]
  },
  {
   "cell_type": "code",
   "execution_count": null,
   "metadata": {
    "ExecuteTime": {
     "end_time": "2021-12-28T03:28:04.052193Z",
     "start_time": "2021-12-28T03:28:03.516323Z"
    },
    "execution": {
     "iopub.execute_input": "2021-12-28T04:41:29.481363Z",
     "iopub.status.busy": "2021-12-28T04:41:29.480982Z",
     "iopub.status.idle": "2021-12-28T04:41:29.898584Z",
     "shell.execute_reply": "2021-12-28T04:41:29.897803Z",
     "shell.execute_reply.started": "2021-12-28T04:41:29.481318Z"
    }
   },
   "outputs": [],
   "source": [
    "# Temperature\n",
    "fig, axs = plt.subplots(nrows=3, figsize=(15, 15))\n",
    "sns.boxplot(x = df['Temperature'], ax=axs[0])\n",
    "sns.violinplot(x = df['Temperature'], ax=axs[1])\n",
    "sns.boxenplot(x = df['Temperature'], ax=axs[2])\n",
    "plt.show()"
   ]
  },
  {
   "cell_type": "code",
   "execution_count": null,
   "metadata": {
    "ExecuteTime": {
     "end_time": "2021-12-28T03:28:18.781915Z",
     "start_time": "2021-12-28T03:28:04.05387Z"
    },
    "execution": {
     "iopub.execute_input": "2021-12-28T04:41:29.900472Z",
     "iopub.status.busy": "2021-12-28T04:41:29.900176Z",
     "iopub.status.idle": "2021-12-28T04:41:30.269287Z",
     "shell.execute_reply": "2021-12-28T04:41:30.268414Z",
     "shell.execute_reply.started": "2021-12-28T04:41:29.900432Z"
    }
   },
   "outputs": [],
   "source": [
    "# CPI\n",
    "fig, axs = plt.subplots(nrows=3, figsize=(15, 15))\n",
    "sns.boxplot(x = df['CPI'], ax=axs[0],color='lightblue')\n",
    "sns.violinplot(x = df['CPI'], ax=axs[1],color='lightblue')\n",
    "sns.boxenplot(x = df['CPI'], ax=axs[2],color='lightblue')\n",
    "plt.show()"
   ]
  },
  {
   "cell_type": "code",
   "execution_count": null,
   "metadata": {
    "ExecuteTime": {
     "end_time": "2021-12-28T03:28:19.093135Z",
     "start_time": "2021-12-28T03:28:18.783973Z"
    },
    "execution": {
     "iopub.execute_input": "2021-12-28T04:41:30.270634Z",
     "iopub.status.busy": "2021-12-28T04:41:30.270422Z",
     "iopub.status.idle": "2021-12-28T04:41:30.599866Z",
     "shell.execute_reply": "2021-12-28T04:41:30.599094Z",
     "shell.execute_reply.started": "2021-12-28T04:41:30.270609Z"
    }
   },
   "outputs": [],
   "source": [
    "# Unemployement\n",
    "plt.figure(figsize=(15,8))\n",
    "sns.histplot(x = 'Unemployment',data = df)\n",
    "plt.title(\"Histogram of Unemployement\")\n",
    "plt.show()"
   ]
  },
  {
   "cell_type": "markdown",
   "metadata": {},
   "source": [
    "## __Data Preprocessing__"
   ]
  },
  {
   "cell_type": "code",
   "execution_count": null,
   "metadata": {
    "ExecuteTime": {
     "end_time": "2021-12-28T03:28:19.137016Z",
     "start_time": "2021-12-28T03:28:19.104526Z"
    },
    "execution": {
     "iopub.execute_input": "2021-12-28T04:41:30.601237Z",
     "iopub.status.busy": "2021-12-28T04:41:30.600989Z",
     "iopub.status.idle": "2021-12-28T04:41:30.619378Z",
     "shell.execute_reply": "2021-12-28T04:41:30.618598Z",
     "shell.execute_reply.started": "2021-12-28T04:41:30.601209Z"
    }
   },
   "outputs": [],
   "source": [
    "df.sample(5)"
   ]
  },
  {
   "cell_type": "code",
   "execution_count": null,
   "metadata": {
    "ExecuteTime": {
     "end_time": "2021-12-28T03:28:19.17143Z",
     "start_time": "2021-12-28T03:28:19.148054Z"
    },
    "execution": {
     "iopub.execute_input": "2021-12-28T04:41:30.620708Z",
     "iopub.status.busy": "2021-12-28T04:41:30.620489Z",
     "iopub.status.idle": "2021-12-28T04:41:30.634862Z",
     "shell.execute_reply": "2021-12-28T04:41:30.63355Z",
     "shell.execute_reply.started": "2021-12-28T04:41:30.620683Z"
    }
   },
   "outputs": [],
   "source": [
    "df.info()"
   ]
  },
  {
   "cell_type": "markdown",
   "metadata": {},
   "source": [
    "### Adding dummy variables for Categorical features"
   ]
  },
  {
   "cell_type": "code",
   "execution_count": null,
   "metadata": {
    "ExecuteTime": {
     "end_time": "2021-12-28T03:28:19.235673Z",
     "start_time": "2021-12-28T03:28:19.212714Z"
    },
    "execution": {
     "iopub.execute_input": "2021-12-28T04:41:30.636671Z",
     "iopub.status.busy": "2021-12-28T04:41:30.636293Z",
     "iopub.status.idle": "2021-12-28T04:41:30.647721Z",
     "shell.execute_reply": "2021-12-28T04:41:30.646823Z",
     "shell.execute_reply.started": "2021-12-28T04:41:30.636627Z"
    }
   },
   "outputs": [],
   "source": [
    "df_dummies = pd.get_dummies(df,columns=['Store','Holiday_Flag'])\n",
    "print(df_dummies.columns.to_list())"
   ]
  },
  {
   "cell_type": "markdown",
   "metadata": {},
   "source": [
    "## __Machine Learning__"
   ]
  },
  {
   "cell_type": "markdown",
   "metadata": {},
   "source": [
    "### Using sklearn"
   ]
  },
  {
   "cell_type": "markdown",
   "metadata": {
    "ExecuteTime": {
     "end_time": "2021-12-27T03:43:04.665514Z",
     "start_time": "2021-12-27T03:43:04.642868Z"
    }
   },
   "source": [
    "**Step 2 - Prepare the data:**\n",
    "We split our data into two sets: one data set for training and another one that we will use at the end to test our model.\n",
    "\n",
    "1. Import the function ```train_test_split``` from ```sklearn.model_selection```\n",
    "2. Split our *df* in **X** made of all features except *Date*,*Weekly_Sales* and **y** made of the feature *Weekly_Sales* \n",
    "3. Use ```train_test_split``` with a *test_size*=0.20 (20 % of inputs became the test set) in following way to obtain a train set and a test set.\n",
    "\n",
    "    ```X_train, X_test, y_train, y_test = train_test_split(X, y, test_size=0.2)```"
   ]
  },
  {
   "cell_type": "code",
   "execution_count": null,
   "metadata": {
    "ExecuteTime": {
     "end_time": "2021-12-28T03:28:19.267401Z",
     "start_time": "2021-12-28T03:28:19.26026Z"
    },
    "execution": {
     "iopub.execute_input": "2021-12-28T04:41:30.649203Z",
     "iopub.status.busy": "2021-12-28T04:41:30.648771Z",
     "iopub.status.idle": "2021-12-28T04:41:30.656394Z",
     "shell.execute_reply": "2021-12-28T04:41:30.655576Z",
     "shell.execute_reply.started": "2021-12-28T04:41:30.649163Z"
    }
   },
   "outputs": [],
   "source": [
    "X = df_dummies.drop(['Date','Weekly_Sales'],axis=1)\n",
    "y = df_dummies.Weekly_Sales"
   ]
  },
  {
   "cell_type": "code",
   "execution_count": null,
   "metadata": {
    "ExecuteTime": {
     "end_time": "2021-12-28T03:28:19.288584Z",
     "start_time": "2021-12-28T03:28:19.269883Z"
    },
    "execution": {
     "iopub.execute_input": "2021-12-28T04:41:30.657856Z",
     "iopub.status.busy": "2021-12-28T04:41:30.657586Z",
     "iopub.status.idle": "2021-12-28T04:41:30.836934Z",
     "shell.execute_reply": "2021-12-28T04:41:30.836106Z",
     "shell.execute_reply.started": "2021-12-28T04:41:30.65783Z"
    }
   },
   "outputs": [],
   "source": [
    "from sklearn.model_selection import train_test_split\n",
    "X_train,X_test,y_train,y_test = train_test_split(X,y,test_size=0.20,random_state=42)\n"
   ]
  },
  {
   "cell_type": "code",
   "execution_count": null,
   "metadata": {
    "ExecuteTime": {
     "end_time": "2021-12-28T03:28:19.295804Z",
     "start_time": "2021-12-28T03:28:19.290742Z"
    },
    "execution": {
     "iopub.execute_input": "2021-12-28T04:41:30.83857Z",
     "iopub.status.busy": "2021-12-28T04:41:30.83832Z",
     "iopub.status.idle": "2021-12-28T04:41:30.919425Z",
     "shell.execute_reply": "2021-12-28T04:41:30.918572Z",
     "shell.execute_reply.started": "2021-12-28T04:41:30.838505Z"
    }
   },
   "outputs": [],
   "source": [
    "from sklearn.linear_model import LinearRegression"
   ]
  },
  {
   "cell_type": "code",
   "execution_count": null,
   "metadata": {
    "ExecuteTime": {
     "end_time": "2021-12-28T03:28:19.303572Z",
     "start_time": "2021-12-28T03:28:19.298046Z"
    },
    "execution": {
     "iopub.execute_input": "2021-12-28T04:41:30.921111Z",
     "iopub.status.busy": "2021-12-28T04:41:30.920802Z",
     "iopub.status.idle": "2021-12-28T04:41:30.92475Z",
     "shell.execute_reply": "2021-12-28T04:41:30.923782Z",
     "shell.execute_reply.started": "2021-12-28T04:41:30.921071Z"
    }
   },
   "outputs": [],
   "source": [
    "lr = LinearRegression()"
   ]
  },
  {
   "cell_type": "markdown",
   "metadata": {},
   "source": [
    "#### Fit and predict the model"
   ]
  },
  {
   "cell_type": "code",
   "execution_count": null,
   "metadata": {
    "ExecuteTime": {
     "end_time": "2021-12-28T03:28:19.368878Z",
     "start_time": "2021-12-28T03:28:19.306505Z"
    },
    "execution": {
     "iopub.execute_input": "2021-12-28T04:41:30.92722Z",
     "iopub.status.busy": "2021-12-28T04:41:30.92657Z",
     "iopub.status.idle": "2021-12-28T04:41:30.957537Z",
     "shell.execute_reply": "2021-12-28T04:41:30.956604Z",
     "shell.execute_reply.started": "2021-12-28T04:41:30.927103Z"
    }
   },
   "outputs": [],
   "source": [
    "lr.fit(X_train,y_train)\n",
    "y_pred = lr.predict(X_test)"
   ]
  },
  {
   "cell_type": "markdown",
   "metadata": {},
   "source": [
    "#### Create a DataFrame of Actual vs Predicted values"
   ]
  },
  {
   "cell_type": "code",
   "execution_count": null,
   "metadata": {
    "ExecuteTime": {
     "end_time": "2021-12-28T03:28:19.384887Z",
     "start_time": "2021-12-28T03:28:19.371419Z"
    },
    "execution": {
     "iopub.execute_input": "2021-12-28T04:41:30.959482Z",
     "iopub.status.busy": "2021-12-28T04:41:30.958756Z",
     "iopub.status.idle": "2021-12-28T04:41:30.974167Z",
     "shell.execute_reply": "2021-12-28T04:41:30.973421Z",
     "shell.execute_reply.started": "2021-12-28T04:41:30.959433Z"
    }
   },
   "outputs": [],
   "source": [
    "df_new = pd.DataFrame({'Actual': y_test, 'Predicted': y_pred})\n",
    "df_new.head()"
   ]
  },
  {
   "cell_type": "markdown",
   "metadata": {},
   "source": [
    "#### Check for actual vs predicted mean"
   ]
  },
  {
   "cell_type": "code",
   "execution_count": null,
   "metadata": {
    "ExecuteTime": {
     "end_time": "2021-12-28T03:28:19.396919Z",
     "start_time": "2021-12-28T03:28:19.388002Z"
    },
    "execution": {
     "iopub.execute_input": "2021-12-28T04:41:30.976031Z",
     "iopub.status.busy": "2021-12-28T04:41:30.975368Z",
     "iopub.status.idle": "2021-12-28T04:41:30.983881Z",
     "shell.execute_reply": "2021-12-28T04:41:30.983102Z",
     "shell.execute_reply.started": "2021-12-28T04:41:30.975992Z"
    }
   },
   "outputs": [],
   "source": [
    "print(f\"{y.mean()}\")\n",
    "y_pred.mean()"
   ]
  },
  {
   "cell_type": "markdown",
   "metadata": {},
   "source": [
    "#### Check for error"
   ]
  },
  {
   "cell_type": "code",
   "execution_count": null,
   "metadata": {
    "ExecuteTime": {
     "end_time": "2021-12-28T03:28:19.409162Z",
     "start_time": "2021-12-28T03:28:19.399723Z"
    },
    "execution": {
     "iopub.execute_input": "2021-12-28T04:41:30.987117Z",
     "iopub.status.busy": "2021-12-28T04:41:30.985321Z",
     "iopub.status.idle": "2021-12-28T04:41:30.998966Z",
     "shell.execute_reply": "2021-12-28T04:41:30.99821Z",
     "shell.execute_reply.started": "2021-12-28T04:41:30.987076Z"
    }
   },
   "outputs": [],
   "source": [
    "from sklearn import metrics\n",
    "print('Mean Absolute error: ', metrics.mean_absolute_error(y_test,y_pred))\n",
    "print('Mean Squared Error: ', metrics.mean_squared_error(y_test,y_pred))\n",
    "print('Root Mean Squared Error: ', np.sqrt(metrics.mean_squared_error(y_test,y_pred)))"
   ]
  },
  {
   "cell_type": "code",
   "execution_count": null,
   "metadata": {
    "ExecuteTime": {
     "end_time": "2021-12-28T03:28:19.423869Z",
     "start_time": "2021-12-28T03:28:19.413041Z"
    },
    "execution": {
     "iopub.execute_input": "2021-12-28T04:41:31.000759Z",
     "iopub.status.busy": "2021-12-28T04:41:31.000181Z",
     "iopub.status.idle": "2021-12-28T04:41:31.011172Z",
     "shell.execute_reply": "2021-12-28T04:41:31.01039Z",
     "shell.execute_reply.started": "2021-12-28T04:41:31.000718Z"
    }
   },
   "outputs": [],
   "source": [
    "# variance score: 1 means perfect prediction\n",
    "print(f\"The variance score is: {lr.score(X_test,y_test)}\")"
   ]
  },
  {
   "cell_type": "markdown",
   "metadata": {},
   "source": [
    "#### rmse,rsquare and adjusted rsquare"
   ]
  },
  {
   "cell_type": "code",
   "execution_count": null,
   "metadata": {
    "ExecuteTime": {
     "end_time": "2021-12-28T03:28:19.440511Z",
     "start_time": "2021-12-28T03:28:19.426656Z"
    },
    "execution": {
     "iopub.execute_input": "2021-12-28T04:41:31.013219Z",
     "iopub.status.busy": "2021-12-28T04:41:31.012413Z",
     "iopub.status.idle": "2021-12-28T04:41:31.027184Z",
     "shell.execute_reply": "2021-12-28T04:41:31.026223Z",
     "shell.execute_reply.started": "2021-12-28T04:41:31.013179Z"
    }
   },
   "outputs": [],
   "source": [
    "# rmse\n",
    "from sklearn.metrics import mean_squared_error\n",
    "from math import sqrt\n",
    "\n",
    "rmse = sqrt(mean_squared_error(y_test, y_pred))\n",
    "\n",
    "from sklearn.metrics import r2_score\n",
    "r2 = r2_score(y_test, y_pred)\n",
    "\n",
    "adj_r2 = 1 - float(len(y)-1)/(len(y)-len(lr.coef_)-1)*(1 - r2)\n",
    "\n",
    "rmse, r2, adj_r2"
   ]
  },
  {
   "cell_type": "markdown",
   "metadata": {},
   "source": [
    "### Using Polynomial Features"
   ]
  },
  {
   "cell_type": "markdown",
   "metadata": {},
   "source": [
    "__What can be improved__:<br>\n",
    "* Consider the date feature\n",
    "* Do some more exploratory data analysis with other features like CPI,temperature\n",
    "* Run ridge regression and linear regression with Tensorflow or any other model to compare results\n",
    "* Using PCA to reduce the dimensions and check for the performance.\n"
   ]
  }
 ],
 "metadata": {
  "kernelspec": {
   "display_name": "Python 3",
   "language": "python",
   "name": "python3"
  },
  "language_info": {
   "codemirror_mode": {
    "name": "ipython",
    "version": 3
   },
   "file_extension": ".py",
   "mimetype": "text/x-python",
   "name": "python",
   "nbconvert_exporter": "python",
   "pygments_lexer": "ipython3",
   "version": "3.8.8"
  }
 },
 "nbformat": 4,
 "nbformat_minor": 4
}
